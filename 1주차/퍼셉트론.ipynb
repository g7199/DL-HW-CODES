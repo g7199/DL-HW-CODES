{
  "nbformat": 4,
  "nbformat_minor": 0,
  "metadata": {
    "colab": {
      "name": "Untitled11.ipynb",
      "provenance": [],
      "toc_visible": true,
      "authorship_tag": "ABX9TyOjBP2brM6O0uf9QEH+AyOb",
      "include_colab_link": true
    },
    "kernelspec": {
      "name": "python3",
      "display_name": "Python 3"
    }
  },
  "cells": [
    {
      "cell_type": "markdown",
      "metadata": {
        "id": "view-in-github",
        "colab_type": "text"
      },
      "source": [
        "<a href=\"https://colab.research.google.com/github/g7199/DL-HW-CODES/blob/main/1%EC%A3%BC%EC%B0%A8/%ED%8D%BC%EC%85%89%ED%8A%B8%EB%A1%A0.ipynb\" target=\"_parent\"><img src=\"https://colab.research.google.com/assets/colab-badge.svg\" alt=\"Open In Colab\"/></a>"
      ]
    },
    {
      "cell_type": "markdown",
      "metadata": {
        "id": "Im0RolJojSYx"
      },
      "source": [
        "###**1. 단순 퍼셉트론 AND 구현 without Numpy** "
      ]
    },
    {
      "cell_type": "code",
      "metadata": {
        "id": "6kupYJ9vjLNL"
      },
      "source": [
        "def AND(x1, x2):\n",
        "  w1, w2, theta = 0.5, 0.5, 0.7\n",
        "  tmp = x1*w1 + x2*w2\n",
        "  if tmp <= theta:\n",
        "    return 0\n",
        "  elif tmp > theta:\n",
        "    return 1"
      ],
      "execution_count": 1,
      "outputs": []
    },
    {
      "cell_type": "code",
      "metadata": {
        "colab": {
          "base_uri": "https://localhost:8080/"
        },
        "id": "x1HNnmkijs_J",
        "outputId": "d1b2096e-3105-428d-9231-7c4dc3154827"
      },
      "source": [
        "print(AND(0,0))\n",
        "print(AND(0,1))\n",
        "print(AND(1,0))\n",
        "print(AND(1,1))"
      ],
      "execution_count": 3,
      "outputs": [
        {
          "output_type": "stream",
          "text": [
            "0\n",
            "0\n",
            "0\n",
            "1\n"
          ],
          "name": "stdout"
        }
      ]
    },
    {
      "cell_type": "markdown",
      "metadata": {
        "id": "vTKgaJLwj8Ix"
      },
      "source": [
        "###**2. 단순 퍼셉트론 AND 구현 with Numpy** "
      ]
    },
    {
      "cell_type": "code",
      "metadata": {
        "id": "r9RGdGZFjxcM"
      },
      "source": [
        "import numpy as np\n",
        "def AND(x1, x2):\n",
        "  x=np.array([x1, x2])\n",
        "  w=np.array([0.5, 0.5])\n",
        "  b= -0.7\n",
        "  tmp=np.sum(w*x)+b\n",
        "  if tmp <= 0:\n",
        "    return 0\n",
        "  else:\n",
        "    return 1"
      ],
      "execution_count": 4,
      "outputs": []
    },
    {
      "cell_type": "code",
      "metadata": {
        "colab": {
          "base_uri": "https://localhost:8080/"
        },
        "id": "bmHG57S9kW9m",
        "outputId": "833d1189-6a11-4e0c-a0a5-86887d93c157"
      },
      "source": [
        "print(AND(0,0))\n",
        "print(AND(0,1))\n",
        "print(AND(1,0))\n",
        "print(AND(1,1))"
      ],
      "execution_count": 5,
      "outputs": [
        {
          "output_type": "stream",
          "text": [
            "0\n",
            "0\n",
            "0\n",
            "1\n"
          ],
          "name": "stdout"
        }
      ]
    },
    {
      "cell_type": "markdown",
      "metadata": {
        "id": "FAl82vdWkcmT"
      },
      "source": [
        "###**3. 단순 퍼셉트론 NAND & OR 구현** "
      ]
    },
    {
      "cell_type": "code",
      "metadata": {
        "id": "MBEo5j0vkX_y"
      },
      "source": [
        "def NAND(x1, x2):\n",
        "  x=np.array([x1, x2])\n",
        "  w=np.array([-0.5, -0.5])\n",
        "  b= 0.7\n",
        "  tmp=np.sum(w*x)+b\n",
        "  if tmp <= 0:\n",
        "    return 0\n",
        "  else:\n",
        "    return 1\n",
        "  \n",
        "def OR(x1, x2):\n",
        "  x=np.array([x1, x2])\n",
        "  w=np.array([0.5, 0.5])\n",
        "  b= 0.2\n",
        "  tmp=np.sum(w*x)+b\n",
        "  if tmp <= 0:\n",
        "    return 0\n",
        "  else:\n",
        "    return 1"
      ],
      "execution_count": 9,
      "outputs": []
    },
    {
      "cell_type": "code",
      "metadata": {
        "colab": {
          "base_uri": "https://localhost:8080/"
        },
        "id": "g0_g-XejkmwT",
        "outputId": "264b987e-9733-4634-c0a9-4d764f97a0b6"
      },
      "source": [
        "print(NAND(0,0))\n",
        "print(NAND(0,1))\n",
        "print(NAND(1,0))\n",
        "print(NAND(1,1))"
      ],
      "execution_count": 7,
      "outputs": [
        {
          "output_type": "stream",
          "text": [
            "1\n",
            "1\n",
            "1\n",
            "0\n"
          ],
          "name": "stdout"
        }
      ]
    },
    {
      "cell_type": "code",
      "metadata": {
        "colab": {
          "base_uri": "https://localhost:8080/"
        },
        "id": "wYD6ms0FkuR2",
        "outputId": "eeafa43e-623e-41b0-f198-97e980100730"
      },
      "source": [
        "print(OR(0,0))\n",
        "print(OR(0,1))\n",
        "print(OR(1,0))\n",
        "print(OR(1,1))"
      ],
      "execution_count": 10,
      "outputs": [
        {
          "output_type": "stream",
          "text": [
            "0\n",
            "1\n",
            "1\n",
            "1\n"
          ],
          "name": "stdout"
        }
      ]
    },
    {
      "cell_type": "code",
      "metadata": {
        "id": "teWApPF0lDtg"
      },
      "source": [
        ""
      ],
      "execution_count": null,
      "outputs": []
    },
    {
      "cell_type": "markdown",
      "metadata": {
        "id": "5eT8gbBWlJTO"
      },
      "source": [
        "###**4. XOR 구현** "
      ]
    },
    {
      "cell_type": "code",
      "metadata": {
        "id": "JMfIVgHMlOLz"
      },
      "source": [
        "def XOR(x1, x2):\n",
        "  s1= NAND(x1, x2)\n",
        "  s2= OR(x1, x2)\n",
        "  y= AND(s1, s2)\n",
        "  return y"
      ],
      "execution_count": 13,
      "outputs": []
    },
    {
      "cell_type": "code",
      "metadata": {
        "colab": {
          "base_uri": "https://localhost:8080/"
        },
        "id": "BT4eC7IZlZHK",
        "outputId": "f64afaef-89db-44f2-e4ea-4d0725cfe650"
      },
      "source": [
        "print(XOR(0,0))\n",
        "print(XOR(0,1))\n",
        "print(XOR(1,0))\n",
        "print(XOR(1,1))"
      ],
      "execution_count": 14,
      "outputs": [
        {
          "output_type": "stream",
          "text": [
            "0\n",
            "1\n",
            "1\n",
            "0\n"
          ],
          "name": "stdout"
        }
      ]
    },
    {
      "cell_type": "markdown",
      "metadata": {
        "id": "wQdx53RMloEI"
      },
      "source": [
        "###**과제- XNOR 구현** "
      ]
    },
    {
      "cell_type": "markdown",
      "metadata": {
        "id": "Jd73LQ-4oN54"
      },
      "source": [
        "#### 1. 정석회로"
      ]
    },
    {
      "cell_type": "code",
      "metadata": {
        "id": "hn9KohYmlrm8"
      },
      "source": [
        "def inv(x1):\n",
        "  if x1 == 1:\n",
        "    return 0\n",
        "  elif x1 == 0:\n",
        "    return 1"
      ],
      "execution_count": 15,
      "outputs": []
    },
    {
      "cell_type": "code",
      "metadata": {
        "id": "9tg2hfaGmpsZ"
      },
      "source": [
        "def XNOR(x1, x2):\n",
        "  s1 = AND(x1, x2)\n",
        "  s2 = AND(inv(x1), inv(x2))\n",
        "  y = OR(s1, s2)\n",
        "  return y"
      ],
      "execution_count": 22,
      "outputs": []
    },
    {
      "cell_type": "code",
      "metadata": {
        "colab": {
          "base_uri": "https://localhost:8080/"
        },
        "id": "ErMzBMjanKPT",
        "outputId": "f60d5bd7-4d0f-44cd-8f0e-87d262501467"
      },
      "source": [
        "print(XNOR(0,0))\n",
        "print(XNOR(0,1))\n",
        "print(XNOR(1,0))\n",
        "print(XNOR(1,1))"
      ],
      "execution_count": 23,
      "outputs": [
        {
          "output_type": "stream",
          "text": [
            "1\n",
            "0\n",
            "0\n",
            "1\n"
          ],
          "name": "stdout"
        }
      ]
    },
    {
      "cell_type": "markdown",
      "metadata": {
        "id": "vwpgr6fOoQJ4"
      },
      "source": [
        "#### 2. XOR 단순 변형"
      ]
    },
    {
      "cell_type": "code",
      "metadata": {
        "id": "gJAGzEVboZEQ"
      },
      "source": [
        "def XNOR(x1, x2):\n",
        "  if XOR(x1, x2) == 0:\n",
        "    return 1\n",
        "  elif XOR(x1, x2) == 1:\n",
        "    return 0"
      ],
      "execution_count": 24,
      "outputs": []
    },
    {
      "cell_type": "code",
      "metadata": {
        "colab": {
          "base_uri": "https://localhost:8080/"
        },
        "id": "wbEFcoKMonzM",
        "outputId": "882c62ea-0d85-4858-a3cc-375c813e5325"
      },
      "source": [
        "print(XNOR(0,0))\n",
        "print(XNOR(0,1))\n",
        "print(XNOR(1,0))\n",
        "print(XNOR(1,1))"
      ],
      "execution_count": 25,
      "outputs": [
        {
          "output_type": "stream",
          "text": [
            "1\n",
            "0\n",
            "0\n",
            "1\n"
          ],
          "name": "stdout"
        }
      ]
    }
  ]
}