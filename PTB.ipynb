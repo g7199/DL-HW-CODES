{
  "nbformat": 4,
  "nbformat_minor": 0,
  "metadata": {
    "colab": {
      "name": "PTB.ipynb",
      "provenance": [],
      "mount_file_id": "1ZaRtIUiMf4KrZmBwxV5_A2U_d_cZsSqp",
      "authorship_tag": "ABX9TyOJU+Zi43ROK7yinxGHB0Yn",
      "include_colab_link": true
    },
    "kernelspec": {
      "name": "python3",
      "display_name": "Python 3"
    },
    "language_info": {
      "name": "python"
    }
  },
  "cells": [
    {
      "cell_type": "markdown",
      "metadata": {
        "id": "view-in-github",
        "colab_type": "text"
      },
      "source": [
        "<a href=\"https://colab.research.google.com/github/g7199/DL-HW-CODES/blob/main/PTB.ipynb\" target=\"_parent\"><img src=\"https://colab.research.google.com/assets/colab-badge.svg\" alt=\"Open In Colab\"/></a>"
      ]
    },
    {
      "cell_type": "code",
      "metadata": {
        "colab": {
          "base_uri": "https://localhost:8080/"
        },
        "id": "U143YBOwL8w5",
        "outputId": "6789c9cb-9b52-4ae6-889e-519f212bbad3"
      },
      "source": [
        "%cd /content/drive/MyDrive/dl/DLFromScratch2"
      ],
      "execution_count": 1,
      "outputs": [
        {
          "output_type": "stream",
          "text": [
            "/content/drive/MyDrive/dl/DLFromScratch2\n"
          ],
          "name": "stdout"
        }
      ]
    },
    {
      "cell_type": "code",
      "metadata": {
        "id": "NeQgycY9MRjO"
      },
      "source": [
        "import sys\n",
        "sys.path.append('..')\n",
        "import numpy as np\n",
        "from common.util import most_similar, create_co_matrix, ppmi\n",
        "from dataset import ptb"
      ],
      "execution_count": 2,
      "outputs": []
    },
    {
      "cell_type": "code",
      "metadata": {
        "id": "D_RGgZdaMayq"
      },
      "source": [
        "window_size = 2\n",
        "wordvec_size = 100"
      ],
      "execution_count": 3,
      "outputs": []
    },
    {
      "cell_type": "code",
      "metadata": {
        "id": "I9HvmkTTMcLn"
      },
      "source": [
        "corpus, word_to_id, id_to_word = ptb.load_data('train')\n",
        "vocab_size = len(word_to_id)\n",
        "C = create_co_matrix(corpus, vocab_size, window_size)"
      ],
      "execution_count": 4,
      "outputs": []
    },
    {
      "cell_type": "code",
      "metadata": {
        "colab": {
          "base_uri": "https://localhost:8080/"
        },
        "id": "_lVPOWgFMfgM",
        "outputId": "3772f860-7320-4db6-f752-582860378cb1"
      },
      "source": [
        "W = ppmi(C, verbose=True)"
      ],
      "execution_count": 5,
      "outputs": [
        {
          "output_type": "stream",
          "text": [
            "1.00 완료\n",
            "2.00 완료\n",
            "3.00 완료\n",
            "4.00 완료\n",
            "5.00 완료\n",
            "6.00 완료\n",
            "7.00 완료\n",
            "8.00 완료\n",
            "9.00 완료\n",
            "10.00 완료\n",
            "11.00 완료\n",
            "12.00 완료\n",
            "13.00 완료\n",
            "14.00 완료\n",
            "15.00 완료\n",
            "16.00 완료\n",
            "17.00 완료\n",
            "18.00 완료\n",
            "19.00 완료\n",
            "20.00 완료\n",
            "21.00 완료\n",
            "22.00 완료\n",
            "23.00 완료\n",
            "24.00 완료\n",
            "25.00 완료\n",
            "26.00 완료\n",
            "27.00 완료\n",
            "28.00 완료\n",
            "29.00 완료\n",
            "30.00 완료\n",
            "31.00 완료\n",
            "32.00 완료\n",
            "33.00 완료\n",
            "34.00 완료\n",
            "35.00 완료\n",
            "36.00 완료\n",
            "37.00 완료\n",
            "38.00 완료\n",
            "39.00 완료\n",
            "40.00 완료\n",
            "41.00 완료\n",
            "42.00 완료\n",
            "43.00 완료\n",
            "44.00 완료\n",
            "45.00 완료\n",
            "46.00 완료\n",
            "47.00 완료\n",
            "48.00 완료\n",
            "49.00 완료\n",
            "50.00 완료\n",
            "51.00 완료\n",
            "52.00 완료\n",
            "53.00 완료\n",
            "54.00 완료\n",
            "55.00 완료\n",
            "56.00 완료\n",
            "57.00 완료\n",
            "58.00 완료\n",
            "59.00 완료\n",
            "60.00 완료\n",
            "61.00 완료\n",
            "62.00 완료\n",
            "63.00 완료\n",
            "64.00 완료\n",
            "65.00 완료\n",
            "66.00 완료\n",
            "67.00 완료\n",
            "68.00 완료\n",
            "69.00 완료\n",
            "70.00 완료\n",
            "71.00 완료\n",
            "72.00 완료\n",
            "73.00 완료\n",
            "74.00 완료\n",
            "75.00 완료\n",
            "76.00 완료\n",
            "77.00 완료\n",
            "78.00 완료\n",
            "79.00 완료\n",
            "80.00 완료\n",
            "81.00 완료\n",
            "82.00 완료\n",
            "83.00 완료\n",
            "84.00 완료\n",
            "85.00 완료\n",
            "86.00 완료\n",
            "87.00 완료\n",
            "88.00 완료\n",
            "89.00 완료\n",
            "90.00 완료\n",
            "91.00 완료\n",
            "92.00 완료\n",
            "93.00 완료\n",
            "94.00 완료\n",
            "95.00 완료\n",
            "96.00 완료\n",
            "97.00 완료\n",
            "98.00 완료\n",
            "99.00 완료\n",
            "100.00 완료\n"
          ],
          "name": "stdout"
        }
      ]
    },
    {
      "cell_type": "code",
      "metadata": {
        "id": "K5nN1oKSMiMC"
      },
      "source": [
        "try:\n",
        "    # truncated SVD\n",
        "    from sklearn.utils.extmath import randomized_svd\n",
        "    U, S, V = randomized_svd(W, n_components=wordvec_size, n_iter=5,\n",
        "                             random_state=None)\n",
        "except:\n",
        "    # SVD\n",
        "    U, S, V = np.linalg.svd(W)"
      ],
      "execution_count": 6,
      "outputs": []
    },
    {
      "cell_type": "code",
      "metadata": {
        "colab": {
          "base_uri": "https://localhost:8080/"
        },
        "id": "s0PvHR2wNRzY",
        "outputId": "50505a33-64e6-4aa7-fd8d-f2cb5512379f"
      },
      "source": [
        "word_vecs = U[:, :wordvec_size]\n",
        "querys = ['you', 'year', 'car', 'toyota']\n",
        "for query in querys:\n",
        "    most_similar(query, word_to_id, id_to_word, word_vecs, top=5)"
      ],
      "execution_count": 7,
      "outputs": [
        {
          "output_type": "stream",
          "text": [
            "\n",
            "[query] you\n",
            " i: 0.7182339429855347\n",
            " we: 0.6775575280189514\n",
            " anybody: 0.5738377571105957\n",
            " 'll: 0.5417613983154297\n",
            " do: 0.5373383164405823\n",
            "\n",
            "[query] year\n",
            " quarter: 0.6619365215301514\n",
            " month: 0.6495340466499329\n",
            " last: 0.644440233707428\n",
            " earlier: 0.6225472092628479\n",
            " next: 0.5723202228546143\n",
            "\n",
            "[query] car\n",
            " auto: 0.6509039402008057\n",
            " luxury: 0.5624030828475952\n",
            " domestic: 0.5095815658569336\n",
            " cars: 0.5009979605674744\n",
            " corsica: 0.4686450660228729\n",
            "\n",
            "[query] toyota\n",
            " motor: 0.6922889351844788\n",
            " mazda: 0.6888232231140137\n",
            " nissan: 0.6665865778923035\n",
            " lexus: 0.65778648853302\n",
            " motors: 0.6499313712120056\n"
          ],
          "name": "stdout"
        }
      ]
    }
  ]
}